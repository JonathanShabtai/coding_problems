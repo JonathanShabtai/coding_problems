{
 "cells": [
  {
   "cell_type": "code",
   "execution_count": 40,
   "metadata": {},
   "outputs": [
    {
     "output_type": "stream",
     "name": "stdout",
     "text": [
      "Hello world\n<class 'str'>\naello world\n"
     ]
    },
    {
     "output_type": "execute_result",
     "data": {
      "text/plain": [
       "True"
      ]
     },
     "metadata": {},
     "execution_count": 40
    }
   ],
   "source": [
    "# String Operations\n",
    "\n",
    "# x = input()\n",
    "x = 'Hello world'\n",
    "print(x)\n",
    "print(type(x))\n",
    "x = x.replace('H', 'a')\n",
    "print(x)\n",
    "x.__len__() == len(x)"
   ]
  },
  {
   "cell_type": "code",
   "execution_count": 15,
   "metadata": {},
   "outputs": [
    {
     "output_type": "execute_result",
     "data": {
      "text/plain": [
       "'0123456789'"
      ]
     },
     "metadata": {},
     "execution_count": 15
    }
   ],
   "source": [
    "import string\n",
    "string.digits"
   ]
  },
  {
   "cell_type": "code",
   "execution_count": 57,
   "metadata": {},
   "outputs": [
    {
     "output_type": "execute_result",
     "data": {
      "text/plain": [
       "65"
      ]
     },
     "metadata": {},
     "execution_count": 57
    }
   ],
   "source": [
    "# ord()\n",
    "\"\"\"Given a string representing one Unicode character, return an integer representing the Unicode code point of that character. For example, ord('a') returns the integer 97 and ord('€') (Euro sign) returns 8364. This is the inverse of chr().\"\"\"\n",
    "ord('A')"
   ]
  },
  {
   "cell_type": "code",
   "execution_count": 69,
   "metadata": {},
   "outputs": [
    {
     "output_type": "execute_result",
     "data": {
      "text/plain": [
       "'0x61'"
      ]
     },
     "metadata": {},
     "execution_count": 69
    }
   ],
   "source": [
    "hex(ord('a'))"
   ]
  },
  {
   "cell_type": "code",
   "execution_count": 59,
   "metadata": {},
   "outputs": [
    {
     "output_type": "execute_result",
     "data": {
      "text/plain": [
       "90"
      ]
     },
     "metadata": {},
     "execution_count": 59
    }
   ],
   "source": [
    "# chr\n",
    "\"\"\"Return the string representing a character whose Unicode code point is the integer i. For example, chr(97) returns the string 'a', while chr(8364) returns the string '€'. This is the inverse of ord().\"\"\""
   ]
  },
  {
   "cell_type": "code",
   "execution_count": 64,
   "metadata": {},
   "outputs": [
    {
     "output_type": "execute_result",
     "data": {
      "text/plain": [
       "9819"
      ]
     },
     "metadata": {},
     "execution_count": 64
    }
   ],
   "source": [
    "ord(\"\\N{BLACK CHESS QUEEN}\")"
   ]
  },
  {
   "cell_type": "code",
   "execution_count": 67,
   "metadata": {},
   "outputs": [
    {
     "output_type": "execute_result",
     "data": {
      "text/plain": [
       "'♛'"
      ]
     },
     "metadata": {},
     "execution_count": 67
    }
   ],
   "source": [
    "chr(9819)"
   ]
  },
  {
   "cell_type": "code",
   "execution_count": 4,
   "metadata": {},
   "outputs": [],
   "source": [
    "# Collections Module\n",
    "from collections import defaultdict\n",
    "from collections import Counter"
   ]
  },
  {
   "cell_type": "code",
   "execution_count": 2,
   "metadata": {},
   "outputs": [],
   "source": [
    "# Comprehenstion"
   ]
  },
  {
   "cell_type": "code",
   "execution_count": 41,
   "metadata": {},
   "outputs": [],
   "source": [
    "# Classes\n",
    "\n",
    "class MyClass:\n",
    "    \"\"\"A simple example class\"\"\"\n",
    "    i = 12345\n",
    "\n",
    "    def f(self):\n",
    "        return 'hello world'"
   ]
  },
  {
   "cell_type": "code",
   "execution_count": 71,
   "metadata": {},
   "outputs": [
    {
     "output_type": "execute_result",
     "data": {
      "text/plain": [
       "'hello world'"
      ]
     },
     "metadata": {},
     "execution_count": 71
    }
   ],
   "source": [
    "x = MyClass()  # () is important here\n",
    "x.f()"
   ]
  },
  {
   "cell_type": "code",
   "execution_count": 98,
   "metadata": {},
   "outputs": [
    {
     "output_type": "stream",
     "name": "stdout",
     "text": [
      "6\n0b110\n5\n0b101\n4\n0b100\n"
     ]
    }
   ],
   "source": [
    "# Bit Vectors\n",
    "\n",
    "# Bitwise AND: x & y\n",
    "# Bitwise OR: x | y\n",
    "# Bitwise NOT: ~x\n",
    "# Bitwise XOR: x ^ y\n",
    "# Bitwise right shift: x >> num\n",
    "# Bitwise left shift: x << num\n",
    "\n",
    "# Bitwise AND: x & y\n",
    "x = 6\n",
    "print(x)\n",
    "print(bin(x))\n",
    "y = 5\n",
    "print(y)\n",
    "print(bin(y))\n",
    "z = x & y\n",
    "print(z)\n",
    "print(bin(z))\n"
   ]
  },
  {
   "cell_type": "code",
   "execution_count": 99,
   "metadata": {},
   "outputs": [
    {
     "output_type": "stream",
     "name": "stdout",
     "text": [
      "6\n0b110\n5\n0b101\n7\n0b111\n"
     ]
    }
   ],
   "source": [
    "# Bitwise OR: x | y\n",
    "x = 6\n",
    "print(x)\n",
    "print(bin(x))\n",
    "y = 5\n",
    "print(y)\n",
    "print(bin(y))\n",
    "z = x | y\n",
    "print(z)\n",
    "print(bin(z))"
   ]
  },
  {
   "cell_type": "code",
   "execution_count": 101,
   "metadata": {},
   "outputs": [
    {
     "output_type": "stream",
     "name": "stdout",
     "text": [
      "5\n0b101\n10\n0b1010\n"
     ]
    }
   ],
   "source": [
    "# Bitwise left shift: x << num\n",
    "x = 5\n",
    "print(x)\n",
    "print(bin(x))\n",
    "y = x << 1  # shift x by one bit to the left. Add a 0 bit to the very right\n",
    "print(y)\n",
    "print(bin(y))"
   ]
  },
  {
   "cell_type": "code",
   "execution_count": 102,
   "metadata": {},
   "outputs": [
    {
     "output_type": "stream",
     "name": "stdout",
     "text": [
      "5\n0b101\n32\n0b100000\n"
     ]
    }
   ],
   "source": [
    "# Bitwise left shift: x << num\n",
    "x = 5\n",
    "print(x)\n",
    "print(bin(x))\n",
    "y = 1 << x  # shift x by one bit to the left. Add a 0 bit to the very right\n",
    "print(y)\n",
    "print(bin(y))"
   ]
  },
  {
   "cell_type": "code",
   "execution_count": 2,
   "metadata": {},
   "outputs": [],
   "source": [
    "# Sets"
   ]
  },
  {
   "cell_type": "code",
   "execution_count": 3,
   "metadata": {},
   "outputs": [],
   "source": [
    "# zip"
   ]
  },
  {
   "cell_type": "code",
   "execution_count": 5,
   "metadata": {},
   "outputs": [],
   "source": [
    "# map, filter, reduce"
   ]
  },
  {
   "cell_type": "code",
   "execution_count": null,
   "metadata": {},
   "outputs": [],
   "source": [
    "# open files to read and write (csv, txt)"
   ]
  },
  {
   "cell_type": "code",
   "execution_count": 103,
   "metadata": {},
   "outputs": [
    {
     "output_type": "execute_result",
     "data": {
      "text/plain": [
       "True"
      ]
     },
     "metadata": {},
     "execution_count": 103
    }
   ],
   "source": [
    "# all, any\n",
    "all([True, True, True])"
   ]
  },
  {
   "cell_type": "code",
   "execution_count": 118,
   "metadata": {},
   "outputs": [
    {
     "output_type": "execute_result",
     "data": {
      "text/plain": [
       "True"
      ]
     },
     "metadata": {},
     "execution_count": 118
    }
   ],
   "source": [
    "dict_test = {'a': 1, 'b': 1, 'c': 1}\n",
    "list(dict_test.values()) == [1 for _ in range(len(dict_test.values()))]"
   ]
  },
  {
   "cell_type": "code",
   "execution_count": 117,
   "metadata": {},
   "outputs": [
    {
     "output_type": "execute_result",
     "data": {
      "text/plain": [
       "True"
      ]
     },
     "metadata": {},
     "execution_count": 117
    }
   ],
   "source": [
    "[1, 1, 1] == [1 for _ in range(len(dict_test.values()))]"
   ]
  },
  {
   "cell_type": "code",
   "execution_count": null,
   "metadata": {},
   "outputs": [],
   "source": []
  }
 ],
 "metadata": {
  "kernelspec": {
   "name": "python3",
   "display_name": "Python 3.7.7 64-bit"
  },
  "language_info": {
   "codemirror_mode": {
    "name": "ipython",
    "version": 3
   },
   "file_extension": ".py",
   "mimetype": "text/x-python",
   "name": "python",
   "nbconvert_exporter": "python",
   "pygments_lexer": "ipython3",
   "version": "3.7.7"
  }
 },
 "nbformat": 4,
 "nbformat_minor": 2
}