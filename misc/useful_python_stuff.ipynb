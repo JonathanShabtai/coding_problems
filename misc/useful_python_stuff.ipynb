{
 "cells": [
  {
   "cell_type": "code",
   "execution_count": 40,
   "metadata": {},
   "outputs": [
    {
     "output_type": "stream",
     "name": "stdout",
     "text": [
      "Hello world\n<class 'str'>\naello world\n"
     ]
    },
    {
     "output_type": "execute_result",
     "data": {
      "text/plain": [
       "True"
      ]
     },
     "metadata": {},
     "execution_count": 40
    }
   ],
   "source": [
    "# String Operations\n",
    "\n",
    "# x = input()\n",
    "x = 'Hello world'\n",
    "print(x)\n",
    "print(type(x))\n",
    "x = x.replace('H', 'a')\n",
    "print(x)\n",
    "x.__len__() == len(x)"
   ]
  },
  {
   "cell_type": "code",
   "execution_count": 15,
   "metadata": {},
   "outputs": [
    {
     "output_type": "execute_result",
     "data": {
      "text/plain": [
       "'0123456789'"
      ]
     },
     "metadata": {},
     "execution_count": 15
    }
   ],
   "source": [
    "import string\n",
    "string.digits"
   ]
  },
  {
   "cell_type": "code",
   "execution_count": 57,
   "metadata": {},
   "outputs": [
    {
     "output_type": "execute_result",
     "data": {
      "text/plain": [
       "65"
      ]
     },
     "metadata": {},
     "execution_count": 57
    }
   ],
   "source": [
    "# ord()\n",
    "\"\"\"Given a string representing one Unicode character, return an integer representing the Unicode code point of that character. For example, ord('a') returns the integer 97 and ord('€') (Euro sign) returns 8364. This is the inverse of chr().\"\"\"\n",
    "ord('A')"
   ]
  },
  {
   "cell_type": "code",
   "execution_count": 69,
   "metadata": {},
   "outputs": [
    {
     "output_type": "execute_result",
     "data": {
      "text/plain": [
       "'0x61'"
      ]
     },
     "metadata": {},
     "execution_count": 69
    }
   ],
   "source": [
    "hex(ord('a'))"
   ]
  },
  {
   "cell_type": "code",
   "execution_count": 59,
   "metadata": {},
   "outputs": [
    {
     "output_type": "execute_result",
     "data": {
      "text/plain": [
       "90"
      ]
     },
     "metadata": {},
     "execution_count": 59
    }
   ],
   "source": [
    "# chr\n",
    "\"\"\"Return the string representing a character whose Unicode code point is the integer i. For example, chr(97) returns the string 'a', while chr(8364) returns the string '€'. This is the inverse of ord().\"\"\""
   ]
  },
  {
   "cell_type": "code",
   "execution_count": 64,
   "metadata": {},
   "outputs": [
    {
     "output_type": "execute_result",
     "data": {
      "text/plain": [
       "9819"
      ]
     },
     "metadata": {},
     "execution_count": 64
    }
   ],
   "source": [
    "ord(\"\\N{BLACK CHESS QUEEN}\")"
   ]
  },
  {
   "cell_type": "code",
   "execution_count": 16,
   "metadata": {},
   "outputs": [
    {
     "output_type": "execute_result",
     "data": {
      "text/plain": [
       "'♛'"
      ]
     },
     "metadata": {},
     "execution_count": 16
    }
   ],
   "source": [
    "chr(9819)"
   ]
  },
  {
   "cell_type": "code",
   "execution_count": 19,
   "metadata": {},
   "outputs": [
    {
     "output_type": "execute_result",
     "data": {
      "text/plain": [
       "False"
      ]
     },
     "metadata": {},
     "execution_count": 19
    }
   ],
   "source": [
    "'a'.isalnum()\n",
    "'-'.isalnum()"
   ]
  },
  {
   "cell_type": "code",
   "execution_count": 1,
   "metadata": {},
   "outputs": [],
   "source": [
    "# Collections Module\n",
    "from collections import defaultdict\n",
    "from collections import Counter"
   ]
  },
  {
   "cell_type": "code",
   "execution_count": 8,
   "metadata": {},
   "outputs": [
    {
     "output_type": "execute_result",
     "data": {
      "text/plain": [
       "Counter({'J': 1,\n",
       "         'o': 1,\n",
       "         'n': 2,\n",
       "         'a': 4,\n",
       "         't': 2,\n",
       "         'h': 2,\n",
       "         ' ': 1,\n",
       "         'S': 1,\n",
       "         'b': 1,\n",
       "         'i': 1})"
      ]
     },
     "metadata": {},
     "execution_count": 8
    }
   ],
   "source": [
    "Counter('Jonathan Shabtai')"
   ]
  },
  {
   "cell_type": "code",
   "execution_count": 3,
   "metadata": {},
   "outputs": [
    {
     "output_type": "execute_result",
     "data": {
      "text/plain": [
       "Counter({'S': 1,\n",
       "         'h': 2,\n",
       "         'a': 4,\n",
       "         'b': 1,\n",
       "         't': 2,\n",
       "         'i': 1,\n",
       "         ' ': 1,\n",
       "         'J': 1,\n",
       "         'o': 1,\n",
       "         'n': 2})"
      ]
     },
     "metadata": {},
     "execution_count": 3
    }
   ],
   "source": [
    "Counter('Shabtai Jonathan')"
   ]
  },
  {
   "cell_type": "code",
   "execution_count": 9,
   "metadata": {},
   "outputs": [
    {
     "output_type": "execute_result",
     "data": {
      "text/plain": [
       "True"
      ]
     },
     "metadata": {},
     "execution_count": 9
    }
   ],
   "source": [
    "Counter('Jonathan Shabtai') == Counter('Shabtai Jonathan')"
   ]
  },
  {
   "cell_type": "code",
   "execution_count": 2,
   "metadata": {},
   "outputs": [],
   "source": [
    "# Comprehenstion"
   ]
  },
  {
   "cell_type": "code",
   "execution_count": 41,
   "metadata": {},
   "outputs": [],
   "source": [
    "# Classes\n",
    "\n",
    "class MyClass:\n",
    "    \"\"\"A simple example class\"\"\"\n",
    "    i = 12345\n",
    "\n",
    "    def f(self):\n",
    "        return 'hello world'"
   ]
  },
  {
   "cell_type": "code",
   "execution_count": 71,
   "metadata": {},
   "outputs": [
    {
     "output_type": "execute_result",
     "data": {
      "text/plain": [
       "'hello world'"
      ]
     },
     "metadata": {},
     "execution_count": 71
    }
   ],
   "source": [
    "x = MyClass()  # () is important here\n",
    "x.f()"
   ]
  },
  {
   "cell_type": "code",
   "execution_count": 98,
   "metadata": {},
   "outputs": [
    {
     "output_type": "stream",
     "name": "stdout",
     "text": [
      "6\n0b110\n5\n0b101\n4\n0b100\n"
     ]
    }
   ],
   "source": [
    "# Bit Vectors\n",
    "\n",
    "# Bitwise AND: x & y\n",
    "# Bitwise OR: x | y\n",
    "# Bitwise NOT: ~x\n",
    "# Bitwise XOR: x ^ y\n",
    "# Bitwise right shift: x >> num\n",
    "# Bitwise left shift: x << num\n",
    "\n",
    "# Bitwise AND: x & y\n",
    "x = 6\n",
    "print(x)\n",
    "print(bin(x))\n",
    "y = 5\n",
    "print(y)\n",
    "print(bin(y))\n",
    "z = x & y\n",
    "print(z)\n",
    "print(bin(z))\n"
   ]
  },
  {
   "cell_type": "code",
   "execution_count": 99,
   "metadata": {},
   "outputs": [
    {
     "output_type": "stream",
     "name": "stdout",
     "text": [
      "6\n0b110\n5\n0b101\n7\n0b111\n"
     ]
    }
   ],
   "source": [
    "# Bitwise OR: x | y\n",
    "x = 6\n",
    "print(x)\n",
    "print(bin(x))\n",
    "y = 5\n",
    "print(y)\n",
    "print(bin(y))\n",
    "z = x | y\n",
    "print(z)\n",
    "print(bin(z))"
   ]
  },
  {
   "cell_type": "code",
   "execution_count": 101,
   "metadata": {},
   "outputs": [
    {
     "output_type": "stream",
     "name": "stdout",
     "text": [
      "5\n0b101\n10\n0b1010\n"
     ]
    }
   ],
   "source": [
    "# Bitwise left shift: x << num\n",
    "x = 5\n",
    "print(x)\n",
    "print(bin(x))\n",
    "y = x << 1  # shift x by one bit to the left. Add a 0 bit to the very right\n",
    "print(y)\n",
    "print(bin(y))"
   ]
  },
  {
   "cell_type": "code",
   "execution_count": 102,
   "metadata": {},
   "outputs": [
    {
     "output_type": "stream",
     "name": "stdout",
     "text": [
      "5\n0b101\n32\n0b100000\n"
     ]
    }
   ],
   "source": [
    "# Bitwise left shift: x << num\n",
    "x = 5\n",
    "print(x)\n",
    "print(bin(x))\n",
    "y = 1 << x  # shift x by one bit to the left. Add a 0 bit to the very right\n",
    "print(y)\n",
    "print(bin(y))"
   ]
  },
  {
   "cell_type": "code",
   "execution_count": 2,
   "metadata": {},
   "outputs": [],
   "source": [
    "# Sets"
   ]
  },
  {
   "cell_type": "code",
   "execution_count": 3,
   "metadata": {},
   "outputs": [],
   "source": [
    "# zip"
   ]
  },
  {
   "cell_type": "code",
   "execution_count": 5,
   "metadata": {},
   "outputs": [],
   "source": [
    "# map, filter, reduce"
   ]
  },
  {
   "cell_type": "code",
   "execution_count": null,
   "metadata": {},
   "outputs": [],
   "source": [
    "# open files to read and write (csv, txt)"
   ]
  },
  {
   "cell_type": "code",
   "execution_count": 103,
   "metadata": {},
   "outputs": [
    {
     "output_type": "execute_result",
     "data": {
      "text/plain": [
       "True"
      ]
     },
     "metadata": {},
     "execution_count": 103
    }
   ],
   "source": [
    "# all, any\n",
    "all([True, True, True])"
   ]
  },
  {
   "cell_type": "code",
   "execution_count": 118,
   "metadata": {},
   "outputs": [
    {
     "output_type": "execute_result",
     "data": {
      "text/plain": [
       "True"
      ]
     },
     "metadata": {},
     "execution_count": 118
    }
   ],
   "source": [
    "dict_test = {'a': 1, 'b': 1, 'c': 1}\n",
    "list(dict_test.values()) == [1 for _ in range(len(dict_test.values()))]"
   ]
  },
  {
   "cell_type": "code",
   "execution_count": 117,
   "metadata": {},
   "outputs": [
    {
     "output_type": "execute_result",
     "data": {
      "text/plain": [
       "True"
      ]
     },
     "metadata": {},
     "execution_count": 117
    }
   ],
   "source": [
    "[1, 1, 1] == [1 for _ in range(len(dict_test.values()))]"
   ]
  },
  {
   "cell_type": "code",
   "execution_count": 14,
   "metadata": {},
   "outputs": [],
   "source": [
    "def urlify(string, length):\n",
    "    '''function replaces single spaces with %20 and removes trailing spaces'''\n",
    "    new_index = len(string)\n",
    "\n",
    "    for i in reversed(range(length)):\n",
    "        print(string)\n",
    "        if string[i] == ' ':\n",
    "            # Replace spaces\n",
    "            string[new_index - 3:new_index] = '%20'\n",
    "            new_index -= 3\n",
    "        else:\n",
    "            # Move characters\n",
    "            string[new_index - 1] = string[i]\n",
    "            new_index -= 1\n",
    "\n",
    "    return string"
   ]
  },
  {
   "cell_type": "code",
   "execution_count": 15,
   "metadata": {},
   "outputs": [
    {
     "output_type": "stream",
     "name": "stdout",
     "text": [
      "['M', 'r', ' ', 'J', 'o', 'h', 'n', ' ', 'S', 'm', 'i', 't', 'h', ' ', ' ', ' ', ' ']\n['M', 'r', ' ', 'J', 'o', 'h', 'n', ' ', 'S', 'm', 'i', 't', 'h', ' ', ' ', ' ', 'h']\n['M', 'r', ' ', 'J', 'o', 'h', 'n', ' ', 'S', 'm', 'i', 't', 'h', ' ', ' ', 't', 'h']\n['M', 'r', ' ', 'J', 'o', 'h', 'n', ' ', 'S', 'm', 'i', 't', 'h', ' ', 'i', 't', 'h']\n['M', 'r', ' ', 'J', 'o', 'h', 'n', ' ', 'S', 'm', 'i', 't', 'h', 'm', 'i', 't', 'h']\n['M', 'r', ' ', 'J', 'o', 'h', 'n', ' ', 'S', 'm', 'i', 't', 'S', 'm', 'i', 't', 'h']\n['M', 'r', ' ', 'J', 'o', 'h', 'n', ' ', 'S', '%', '2', '0', 'S', 'm', 'i', 't', 'h']\n['M', 'r', ' ', 'J', 'o', 'h', 'n', ' ', 'n', '%', '2', '0', 'S', 'm', 'i', 't', 'h']\n['M', 'r', ' ', 'J', 'o', 'h', 'n', 'h', 'n', '%', '2', '0', 'S', 'm', 'i', 't', 'h']\n['M', 'r', ' ', 'J', 'o', 'h', 'o', 'h', 'n', '%', '2', '0', 'S', 'm', 'i', 't', 'h']\n['M', 'r', ' ', 'J', 'o', 'J', 'o', 'h', 'n', '%', '2', '0', 'S', 'm', 'i', 't', 'h']\n['M', 'r', '%', '2', '0', 'J', 'o', 'h', 'n', '%', '2', '0', 'S', 'm', 'i', 't', 'h']\n['M', 'r', '%', '2', '0', 'J', 'o', 'h', 'n', '%', '2', '0', 'S', 'm', 'i', 't', 'h']\n['M', 'r', '%', '2', '0', 'J', 'o', 'h', 'n', '%', '2', '0', 'S', 'm', 'i', 't', 'h']\n"
     ]
    }
   ],
   "source": [
    "print(urlify(list('Mr John Smith    '), 13))"
   ]
  },
  {
   "cell_type": "code",
   "execution_count": 20,
   "metadata": {},
   "outputs": [
    {
     "output_type": "stream",
     "name": "stdout",
     "text": [
      "2\n"
     ]
    }
   ],
   "source": [
    "# chopping off digits off a number\n",
    "num = 3844232\n",
    "while num // 10 != 0:\n",
    "    print(num % 10)\n",
    "    num = num // 10"
   ]
  },
  {
   "cell_type": "code",
   "execution_count": null,
   "metadata": {},
   "outputs": [],
   "source": []
  }
 ],
 "metadata": {
  "kernelspec": {
   "name": "python377jvsc74a57bd0e134e05457d34029b6460cd73bbf1ed73f339b5b6d98c95be70b69eba114fe95",
   "display_name": "Python 3.7.7 64-bit ('base': conda)"
  },
  "language_info": {
   "codemirror_mode": {
    "name": "ipython",
    "version": 3
   },
   "file_extension": ".py",
   "mimetype": "text/x-python",
   "name": "python",
   "nbconvert_exporter": "python",
   "pygments_lexer": "ipython3",
   "version": "3.7.7"
  }
 },
 "nbformat": 4,
 "nbformat_minor": 2
}